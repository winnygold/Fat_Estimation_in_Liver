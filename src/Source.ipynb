{
 "cells": [
  {
   "cell_type": "code",
   "execution_count": 5,
   "id": "a83893e7",
   "metadata": {},
   "outputs": [],
   "source": [
    "%matplotlib inline\n",
    "\n",
    "import numpy as np # Numerical python Calculator \n",
    "import pydicom # I/O operations for processing DICOM\n",
    "import scipy.ndimage as md # Image Manipulation Library\n",
    "import matplotlib.pyplot as plt  # Plotting Graphs / Visualization Library\n",
    "import json # I/O Operations for JSON Files\n",
    "import os # OS Operations"
   ]
  },
  {
   "cell_type": "code",
   "execution_count": 36,
   "id": "cd4fae2c",
   "metadata": {},
   "outputs": [],
   "source": [
    "# Class to hold constants and key info\n",
    "class read_json:\n",
    "    # Loading the JSON file which contains the path info\n",
    "    json_meta_data = json.load(open(\"/Users/pravin/Documents/Pushpa/src/info.json\"))\n",
    "    # Path to the DICOM Files \n",
    "    json_data = json_meta_data.get(\"path\")\n",
    "    subject_names = os.listdir(json_data)"
   ]
  },
  {
   "cell_type": "code",
   "execution_count": 44,
   "id": "2d884eac",
   "metadata": {},
   "outputs": [
    {
     "name": "stdout",
     "output_type": "stream",
     "text": [
      "/Users/pravin/Documents/Pushpa/Data/UDAI_MANIK\n",
      "/Users/pravin/Documents/Pushpa/Data/INDUMATHI\n",
      "/Users/pravin/Documents/Pushpa/Data/CELINE\n",
      "/Users/pravin/Documents/Pushpa/Data/.DS_Store\n",
      "/Users/pravin/Documents/Pushpa/Data/VIJAY_R\n",
      "/Users/pravin/Documents/Pushpa/Data/NUR_MOHAMMAD\n",
      "/Users/pravin/Documents/Pushpa/Data/SUGUNA_M\n",
      "/Users/pravin/Documents/Pushpa/Data/VIJAYA_P\n",
      "/Users/pravin/Documents/Pushpa/Data/VIKRAM_N\n",
      "/Users/pravin/Documents/Pushpa/Data/ANAND \n"
     ]
    }
   ],
   "source": [
    "path = read_json.json_meta_data\n",
    "path_data = read_json.json_data\n",
    "\n",
    "for i in read_json.subject_names:\n",
    "    print(os.path.join(path_data,i))\n",
    "#[pydicom.dcmread(os.path.join(path,subject_file)) for subject_file in os.listdir(path)]"
   ]
  },
  {
   "cell_type": "code",
   "execution_count": 24,
   "id": "e0727221",
   "metadata": {},
   "outputs": [],
   "source": [
    "class preprocessing():\n",
    "    def process_dicom(path = read_json.json_data):\n",
    "        slices = [pydicom.dcmread(os.path.join(path,subject_file)) for subject_file in os.listdir(path)]\n",
    "\n",
    "        slices.sort(key = lambda x: int(x.InstanceNumber))\n",
    "\n",
    "        try:\n",
    "            slice_thickness = np.abs(slices[0].ImagePositionPatient[2] - slices[1].ImagePositionPatient[2])\n",
    "        except:\n",
    "            slice_thickness = np.abs(slices[0].SliceLocation - slices[1].SliceLocation)\n",
    "\n",
    "\n",
    "        for s in slices:\n",
    "            s.SliceThickness = slice_thickness\n",
    "\n",
    "        return slices"
   ]
  },
  {
   "cell_type": "code",
   "execution_count": 25,
   "id": "39d100b6",
   "metadata": {},
   "outputs": [
    {
     "ename": "TypeError",
     "evalue": "listdir: path should be string, bytes, os.PathLike, integer or None, not preprocessing",
     "output_type": "error",
     "traceback": [
      "\u001b[0;31m---------------------------------------------------------------------------\u001b[0m",
      "\u001b[0;31mTypeError\u001b[0m                                 Traceback (most recent call last)",
      "\u001b[0;32m/var/folders/z8/387j_gls2qj5c7mybl6wmrvc0000gn/T/ipykernel_88481/1990374305.py\u001b[0m in \u001b[0;36m<module>\u001b[0;34m\u001b[0m\n\u001b[1;32m      1\u001b[0m \u001b[0mpreprocessing\u001b[0m \u001b[0;34m=\u001b[0m \u001b[0mpreprocessing\u001b[0m\u001b[0;34m(\u001b[0m\u001b[0;34m)\u001b[0m\u001b[0;34m\u001b[0m\u001b[0;34m\u001b[0m\u001b[0m\n\u001b[0;32m----> 2\u001b[0;31m \u001b[0mprint\u001b[0m\u001b[0;34m(\u001b[0m\u001b[0mpreprocessing\u001b[0m\u001b[0;34m.\u001b[0m\u001b[0mprocess_dicom\u001b[0m\u001b[0;34m(\u001b[0m\u001b[0;34m)\u001b[0m\u001b[0;34m)\u001b[0m\u001b[0;34m\u001b[0m\u001b[0;34m\u001b[0m\u001b[0m\n\u001b[0m",
      "\u001b[0;32m/var/folders/z8/387j_gls2qj5c7mybl6wmrvc0000gn/T/ipykernel_88481/613216134.py\u001b[0m in \u001b[0;36mprocess_dicom\u001b[0;34m(path)\u001b[0m\n\u001b[1;32m      1\u001b[0m \u001b[0;32mclass\u001b[0m \u001b[0mpreprocessing\u001b[0m\u001b[0;34m(\u001b[0m\u001b[0;34m)\u001b[0m\u001b[0;34m:\u001b[0m\u001b[0;34m\u001b[0m\u001b[0;34m\u001b[0m\u001b[0m\n\u001b[1;32m      2\u001b[0m     \u001b[0;32mdef\u001b[0m \u001b[0mprocess_dicom\u001b[0m\u001b[0;34m(\u001b[0m\u001b[0mpath\u001b[0m \u001b[0;34m=\u001b[0m \u001b[0mread_json\u001b[0m\u001b[0;34m.\u001b[0m\u001b[0mjson_data\u001b[0m\u001b[0;34m)\u001b[0m\u001b[0;34m:\u001b[0m\u001b[0;34m\u001b[0m\u001b[0;34m\u001b[0m\u001b[0m\n\u001b[0;32m----> 3\u001b[0;31m         \u001b[0mslices\u001b[0m \u001b[0;34m=\u001b[0m \u001b[0;34m[\u001b[0m\u001b[0mpydicom\u001b[0m\u001b[0;34m.\u001b[0m\u001b[0mdcmread\u001b[0m\u001b[0;34m(\u001b[0m\u001b[0mos\u001b[0m\u001b[0;34m.\u001b[0m\u001b[0mpath\u001b[0m\u001b[0;34m.\u001b[0m\u001b[0mjoin\u001b[0m\u001b[0;34m(\u001b[0m\u001b[0mpath\u001b[0m\u001b[0;34m,\u001b[0m\u001b[0msubject_file\u001b[0m\u001b[0;34m)\u001b[0m\u001b[0;34m)\u001b[0m \u001b[0;32mfor\u001b[0m \u001b[0msubject_file\u001b[0m \u001b[0;32min\u001b[0m \u001b[0mos\u001b[0m\u001b[0;34m.\u001b[0m\u001b[0mlistdir\u001b[0m\u001b[0;34m(\u001b[0m\u001b[0mpath\u001b[0m\u001b[0;34m)\u001b[0m\u001b[0;34m]\u001b[0m\u001b[0;34m\u001b[0m\u001b[0;34m\u001b[0m\u001b[0m\n\u001b[0m\u001b[1;32m      4\u001b[0m \u001b[0;34m\u001b[0m\u001b[0m\n\u001b[1;32m      5\u001b[0m         \u001b[0mslices\u001b[0m\u001b[0;34m.\u001b[0m\u001b[0msort\u001b[0m\u001b[0;34m(\u001b[0m\u001b[0mkey\u001b[0m \u001b[0;34m=\u001b[0m \u001b[0;32mlambda\u001b[0m \u001b[0mx\u001b[0m\u001b[0;34m:\u001b[0m \u001b[0mint\u001b[0m\u001b[0;34m(\u001b[0m\u001b[0mx\u001b[0m\u001b[0;34m.\u001b[0m\u001b[0mInstanceNumber\u001b[0m\u001b[0;34m)\u001b[0m\u001b[0;34m)\u001b[0m\u001b[0;34m\u001b[0m\u001b[0;34m\u001b[0m\u001b[0m\n",
      "\u001b[0;31mTypeError\u001b[0m: listdir: path should be string, bytes, os.PathLike, integer or None, not preprocessing"
     ]
    }
   ],
   "source": [
    "preprocessing = preprocessing()\n",
    "print(preprocessing.process_dicom())"
   ]
  }
 ],
 "metadata": {
  "kernelspec": {
   "display_name": "Pushpa",
   "language": "python",
   "name": "pushpa"
  },
  "language_info": {
   "codemirror_mode": {
    "name": "ipython",
    "version": 3
   },
   "file_extension": ".py",
   "mimetype": "text/x-python",
   "name": "python",
   "nbconvert_exporter": "python",
   "pygments_lexer": "ipython3",
   "version": "3.10.0"
  }
 },
 "nbformat": 4,
 "nbformat_minor": 5
}
